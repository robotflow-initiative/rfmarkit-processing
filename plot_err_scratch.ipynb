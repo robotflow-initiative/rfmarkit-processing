{
 "cells": [
  {
   "cell_type": "code",
   "execution_count": null,
   "metadata": {},
   "outputs": [],
   "source": [
    "import matplotlib.pyplot as plt\n",
    "import numpy as np\n",
    "import pickle\n",
    "import pandas as pd\n",
    "from algorithm import IMUAlgorithm\n",
    "import transforms3d as t3d"
   ]
  },
  {
   "cell_type": "code",
   "execution_count": null,
   "metadata": {},
   "outputs": [],
   "source": [
    "with open('./measurement.pkl', 'rb') as f:\n",
    "    measurement = pickle.load(f)\n",
    "pos = measurement['pos']\n",
    "timestamp = measurement['timestamp']\n",
    "gt = []\n",
    "\n",
    "for _ in range(6):\n",
    "    gt += list(np.linspace([0,0,0],[0,0.16,0], 250)) + list(np.linspace([0,0.16,0],[0.16,0.16,0], 250)) +list(np.linspace([0.16,0.16,0],[0.16,0,0], 250)) +list( np.linspace([0.16,0,0],[0,0,0], 250))\n",
    "\n",
    "gt = np.array(gt)\n",
    "gt = gt[:len(pos)]\n",
    "\n",
    "yaw = 10 * np.pi / 180\n",
    "pose_mat = t3d.euler.euler2mat(0,0,yaw)\n",
    "for i in range(len(gt)):\n",
    "\n",
    "    gt[i,:] = pose_mat @ gt[i,:]"
   ]
  },
  {
   "cell_type": "markdown",
   "metadata": {},
   "source": [
    "### Get GT"
   ]
  },
  {
   "cell_type": "code",
   "execution_count": null,
   "metadata": {},
   "outputs": [],
   "source": [
    "start_idx = 100\n",
    "end_idx =5000\n",
    "gt= gt[start_idx:end_idx]\n",
    "pos = pos[start_idx:end_idx]\n",
    "timestamp = timestamp[:end_idx-start_idx]\n",
    "\n",
    "fig = plt.figure(figsize=(16, 16))\n",
    "ax = fig.add_subplot(111)\n",
    "ax.scatter(gt[:, 0], gt[:, 1], s=2, c='b')\n",
    "ax.scatter(pos[:, 0], pos[:, 1], s=2, c='r')\n",
    "plt.gca().set_aspect('equal', adjustable='box')\n",
    "ax.set_title('GT - POS')"
   ]
  },
  {
   "cell_type": "code",
   "execution_count": null,
   "metadata": {},
   "outputs": [],
   "source": [
    "diff = np.sqrt(np.sum(((pos - gt)**2), axis=1))"
   ]
  },
  {
   "cell_type": "code",
   "execution_count": null,
   "metadata": {},
   "outputs": [],
   "source": [
    "fig = plt.figure(figsize=(10, 8))\n",
    "ax = fig.add_subplot(111)\n",
    "ax.scatter(timestamp, diff,s=2, c='b')\n",
    "ax.set_xlabel('Time (s)')\n",
    "ax.set_ylabel('Distance (m)')\n",
    "ax.set_title('GT - POS')"
   ]
  },
  {
   "cell_type": "code",
   "execution_count": null,
   "metadata": {},
   "outputs": [],
   "source": [
    "diff_filted = IMUAlgorithm.filter_middle(diff, windows_sz=400)"
   ]
  },
  {
   "cell_type": "code",
   "execution_count": null,
   "metadata": {},
   "outputs": [],
   "source": [
    "fig = plt.figure(figsize=(10, 8))\n",
    "ax = fig.add_subplot(111)\n",
    "ax.scatter(timestamp[:3000], diff_filted[:3000],s=2, c='b')\n",
    "ax.set_xlabel('Time (s)')\n",
    "ax.set_ylabel('Distance (m)')\n",
    "ax.set_title('Difference between IMU tracking results and actual motion')"
   ]
  },
  {
   "cell_type": "code",
   "execution_count": null,
   "metadata": {},
   "outputs": [],
   "source": []
  },
  {
   "cell_type": "code",
   "execution_count": null,
   "metadata": {},
   "outputs": [],
   "source": []
  }
 ],
 "metadata": {
  "interpreter": {
   "hash": "0307b5c48d2f2844bbfc3cfee182278233dbcde98b6c13456d7084cfbfaf7517"
  },
  "kernelspec": {
   "display_name": "Python 3.8.10 64-bit ('imu': conda)",
   "language": "python",
   "name": "python3"
  },
  "language_info": {
   "codemirror_mode": {
    "name": "ipython",
    "version": 3
   },
   "file_extension": ".py",
   "mimetype": "text/x-python",
   "name": "python",
   "nbconvert_exporter": "python",
   "pygments_lexer": "ipython3",
   "version": "3.8.10"
  },
  "orig_nbformat": 4
 },
 "nbformat": 4,
 "nbformat_minor": 2
}
