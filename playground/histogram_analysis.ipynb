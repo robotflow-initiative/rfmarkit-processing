{
 "cells": [
  {
   "cell_type": "code",
   "execution_count": null,
   "metadata": {},
   "outputs": [],
   "source": [
    "from IMUDataset import IMUDatasetCollection\n",
    "from algorithm import IMUAlgorithm\n",
    "import numpy as np\n",
    "import pickle\n",
    "import tqdm\n",
    "import os\n",
    "from process_data_raw import from_collection_entry_to_np\n",
    "import matplotlib.pyplot as plt"
   ]
  },
  {
   "cell_type": "code",
   "execution_count": null,
   "metadata": {},
   "outputs": [],
   "source": [
    "data_collection = IMUDatasetCollection('./data_raw',\n",
    "                                           label_subpath='Pos',\n",
    "                                           stimulis_subpath='IMU',\n",
    "                                           label_pattern=['cartesianPos_{}.csv'],\n",
    "                                           stimulis_pattern=[\"imu_{}.csv\"])"
   ]
  },
  {
   "cell_type": "code",
   "execution_count": null,
   "metadata": {},
   "outputs": [],
   "source": [
    "pos = from_collection_entry_to_np(data_collection, 1)['robot']['pos']\n",
    "ts = from_collection_entry_to_np(data_collection, 1)['robot']['ts']"
   ]
  },
  {
   "cell_type": "code",
   "execution_count": null,
   "metadata": {},
   "outputs": [],
   "source": [
    "IMUAlgorithm.visualize_3d(pos, ts, 'POS')\n",
    "vel = np.zeros_like(pos)\n",
    "vel[1:] = (pos[1:] - pos[:-1]) * 1e3\n",
    "vel = IMUAlgorithm.filter_middle(vel, 200)\n",
    "IMUAlgorithm.visualize_3d(vel, ts, 'VEL')\n"
   ]
  },
  {
   "cell_type": "code",
   "execution_count": null,
   "metadata": {},
   "outputs": [],
   "source": [
    "def plot_histogram(data_collection, index: int):\n",
    "    acc = from_collection_entry_to_np(data_collection, index)['imu']['acc']\n",
    "    gyro = from_collection_entry_to_np(data_collection, index)['imu']['gyro']\n",
    "\n",
    "    fig = plt.figure(figsize=(8,4))\n",
    "    ax = fig.add_subplot(121)\n",
    "    ax.hist(acc, bins=10, range=(-1.5, 1.5))\n",
    "    ax = fig.add_subplot(122)\n",
    "    ax.hist(gyro, bins=20, range=(-3, 3))\n",
    "    ts = from_collection_entry_to_np(data_collection, index)['imu']['ts']\n",
    "    pass"
   ]
  },
  {
   "cell_type": "code",
   "execution_count": null,
   "metadata": {
    "collapsed": false
   },
   "outputs": [],
   "source": [
    "plot_histogram(data_collection, 1)"
   ]
  },
  {
   "cell_type": "code",
   "execution_count": null,
   "metadata": {
    "collapsed": false
   },
   "outputs": [],
   "source": [
    "plot_histogram(data_collection, 2)"
   ]
  },
  {
   "cell_type": "code",
   "execution_count": null,
   "metadata": {
    "collapsed": false
   },
   "outputs": [],
   "source": [
    "plot_histogram(data_collection, 3)"
   ]
  },
  {
   "cell_type": "code",
   "execution_count": null,
   "metadata": {
    "collapsed": false
   },
   "outputs": [],
   "source": [
    "plot_histogram(data_collection, 4)"
   ]
  },
  {
   "cell_type": "code",
   "execution_count": null,
   "metadata": {
    "collapsed": false
   },
   "outputs": [],
   "source": [
    "plot_histogram(data_collection, 5)"
   ]
  }
 ],
 "metadata": {
  "interpreter": {
   "hash": "0307b5c48d2f2844bbfc3cfee182278233dbcde98b6c13456d7084cfbfaf7517"
  },
  "kernelspec": {
   "display_name": "Python 3.9.2 64-bit ('mlprepro': conda)",
   "language": "python",
   "name": "python3"
  },
  "language_info": {
   "codemirror_mode": {
    "name": "ipython",
    "version": 3
   },
   "file_extension": ".py",
   "mimetype": "text/x-python",
   "name": "python",
   "nbconvert_exporter": "python",
   "pygments_lexer": "ipython3",
   "version": "3.8.10"
  },
  "orig_nbformat": 4
 },
 "nbformat": 4,
 "nbformat_minor": 2
}
