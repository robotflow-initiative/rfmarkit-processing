{
 "cells": [
  {
   "cell_type": "code",
   "execution_count": null,
   "metadata": {},
   "outputs": [],
   "source": [
    "import numpy as np\n",
    "import scipy\n",
    "import tqdm"
   ]
  },
  {
   "cell_type": "code",
   "execution_count": null,
   "metadata": {},
   "outputs": [],
   "source": [
    "records = {\n",
    "    'still':'/Users/liyutong/projectExchange/imu-python-tools/hipnuc_mem/hipnuc_data_20211201_202828_still.npz',\n",
    "    'manual_still': '/Users/liyutong/projectExchange/imu-python-tools/hipnuc_mem/hipnuc_data_20211201_203737_manual_still.npz',\n",
    "    'slow_move':'/Users/liyutong/projectExchange/imu-python-tools/hipnuc_mem/hipnuc_data_20211201_204307_slow_move.npz',\n",
    "    'medium_move':'/Users/liyutong/projectExchange/imu-python-tools/hipnuc_mem/hipnuc_data_20211201_211126_medium_move.npz',\n",
    "    'extreme_move':'/Users/liyutong/projectExchange/imu-python-tools/hipnuc_mem/hipnuc_data_20211201_211411_extreme.npz',\n",
    "    'custom':'/Users/liyutong/projectExchange/imu-python-tools/hipnuc_mem/hipnuc_data_20211202_221604.npz'\n",
    "}\n",
    "records_npzfile = {key: np.load(records[key]) for key in records}"
   ]
  },
  {
   "cell_type": "code",
   "execution_count": null,
   "metadata": {},
   "outputs": [],
   "source": [
    "GRAVITY_NORM = 9.81\n",
    "\n",
    "\n",
    "def unpack_npz(npzfile: np.ndarray, trim_thresh: int = 000, **kwargs):\n",
    "    accel_i = np.squeeze(np.stack([npzfile['accel_x'], -1 * npzfile['accel_y'], npzfile['accel_z']], axis=1)).astype(\n",
    "        np.float64) * GRAVITY_NORM\n",
    "    gyro = np.squeeze(np.stack([npzfile['gyro_x'], -1 * npzfile['gyro_y'], npzfile['gyro_z']], axis=1)).astype(np.float64)\n",
    "    rpy = np.squeeze(np.stack([npzfile['roll'], npzfile['pitch'], npzfile['yaw']], axis=1)).astype(np.float64) * np.pi / 180\n",
    "    mag = np.squeeze(-np.stack([npzfile['mag_x'], -1 * npzfile['mag_y'], npzfile['mag_z']], axis=1)).astype(np.float64)\n",
    "    timestamp = npzfile['timestamp'].astype(np.float64)\n",
    "\n",
    "    # Trim\n",
    "    if trim_thresh <= 0:\n",
    "        trim_thresh = np.where(np.squeeze(npzfile['uart_buffer_len']) < 10)[0].min()\n",
    "\n",
    "    accel_i = accel_i[trim_thresh:]\n",
    "    gyro = gyro[trim_thresh:]\n",
    "    rpy = rpy[trim_thresh:]\n",
    "    mag = mag[trim_thresh:]\n",
    "    timestamp = timestamp[trim_thresh:]\n",
    "    return {'accel_i': accel_i, 'gyro': gyro, 'mag': mag, 'rpy': rpy, 'timestamp': timestamp}\n",
    "\n",
    "\n",
    "def window_statistics(accel: np.ndarray, gyro: np.ndarray, window_sz: int, timestamp):\n",
    "    res = {\n",
    "        'gyro_mean': np.zeros_like(timestamp),\n",
    "        'gyro_std': np.zeros_like(timestamp),\n",
    "        'accel_mean': np.zeros_like(timestamp),\n",
    "        'accel_std': np.zeros_like(timestamp),\n",
    "    }\n",
    "\n",
    "    with tqdm.tqdm(range(len(timestamp))) as pbar:\n",
    "        for idx in range(1, len(timestamp) + 1):\n",
    "            gyro_window = gyro[idx - window_sz:idx]\n",
    "            accel_window = accel[idx - window_sz:idx]\n",
    "            if gyro_window.shape[0] > 0 and accel_window.shape[0] > 0:\n",
    "                res['gyro_mean'][idx - 1] = np.sqrt(np.sum(np.mean(gyro_window, axis=0)**2))\n",
    "                res['gyro_std'][idx - 1] = np.mean(np.std(gyro_window, axis=0))\n",
    "\n",
    "                res['accel_mean'][idx - 1] = np.sqrt(np.sum(np.mean(accel_window, axis=0)**2))\n",
    "                res['accel_std'][idx - 1] = np.mean(np.std(accel_window, axis=0))\n",
    "            pbar.update()\n",
    "\n",
    "    return res"
   ]
  },
  {
   "cell_type": "code",
   "execution_count": null,
   "metadata": {},
   "outputs": [],
   "source": [
    "import matplotlib.pyplot as plt\n",
    "\n",
    "def visualize_3d(data: np.ndarray, timestamp: np.ndarray, title: str):\n",
    "    fig = plt.figure(figsize=(32, 8))\n",
    "\n",
    "    ax = fig.add_subplot(121, projection='3d')\n",
    "    ax.scatter(data[:, 0], data[:, 1], data[:, 2], c=timestamp)\n",
    "    ax.set_xlabel(title + '-X', fontdict={'size': 15, 'color': 'red'})\n",
    "    ax.set_ylabel(title + '-Y', fontdict={'size': 15, 'color': 'red'})\n",
    "    ax.set_zlabel(title + '-Z', fontdict={'size': 15, 'color': 'red'})\n",
    "\n",
    "    ax = fig.add_subplot(122)\n",
    "    ax.scatter(timestamp, data[:, 0], s=2, c='r')\n",
    "    ax.scatter(timestamp, data[:, 1], s=2, c='g')\n",
    "    ax.scatter(timestamp, data[:, 2], s=2, c='b')\n",
    "    ax.set_title(title)\n",
    "\n",
    "    plt.show()\n",
    "\n",
    "\n",
    "def visualize_1d(data: np.ndarray, timestamp: np.ndarray, title: str):\n",
    "    fig = plt.figure(figsize=(10, 8))\n",
    "\n",
    "    ax = fig.add_subplot(111)\n",
    "    ax.scatter(timestamp, data, s=2)\n",
    "    ax.set_title(title)\n",
    "    # plt.gca().set_aspect('equal', adjustable='box')\n",
    "\n",
    "    plt.show()\n"
   ]
  },
  {
   "cell_type": "markdown",
   "metadata": {},
   "source": [
    "## For manual_still dataset"
   ]
  },
  {
   "cell_type": "code",
   "execution_count": null,
   "metadata": {},
   "outputs": [],
   "source": [
    "import tqdm\n",
    "measurements = {key: unpack_npz(value) for key, value in records_npzfile.items()}\n",
    "\n",
    "res = {key: window_statistics(measurement['accel_i'], measurement['gyro'], 10, timestamp=measurement['timestamp']) for key, measurement in measurements.items()}\n",
    "\n",
    "\n",
    "# executor = ProcessPoolExecutor(max_workers=mp.cpu_count())\n",
    "\n",
    "# all_task = {key: executor.submit(window_statistics,(measurement['accel_i'], measurement['gyro'], 5, measurement['timestamp'],)) for key, measurement in measurements.items()}\n",
    "\n",
    "# for future in as_completed(all_task.values()):\n",
    "#     future.result()\n",
    "\n",
    "# res = {key: future.result() for key, future in all_task.items()}"
   ]
  },
  {
   "cell_type": "code",
   "execution_count": null,
   "metadata": {},
   "outputs": [],
   "source": [
    "def plot_hist(res, name:str):\n",
    "    FIG_HEIGHT = 4\n",
    "    length = len(res)\n",
    "    fig = plt.figure(figsize=(length*FIG_HEIGHT,4), dpi=100)\n",
    "    fig.text(0.5,0,name)\n",
    "\n",
    "    for idx, key in enumerate(res):\n",
    "        ax = fig.add_subplot(100 + (length) * 10 + idx + 1)\n",
    "        ax.hist(res[key][name], bins=np.linspace(res[key][name].min(),res[key][name].max(),101))\n",
    "        ax.set_title(key)\n",
    "    plt.show()"
   ]
  },
  {
   "cell_type": "code",
   "execution_count": null,
   "metadata": {},
   "outputs": [],
   "source": [
    "plot_hist(res, 'gyro_mean')\n",
    "plot_hist(res, 'gyro_std')\n",
    "plot_hist(res, 'accel_mean')\n",
    "plot_hist(res, 'accel_std')\n"
   ]
  },
  {
   "cell_type": "code",
   "execution_count": null,
   "metadata": {},
   "outputs": [],
   "source": [
    "visualize_1d(res['manual_still']['gyro_mean'], res['manual_still']['accel_mean'], 'gm-am')\n",
    "visualize_1d(res['slow_move']['gyro_mean'], res['slow_move']['accel_mean'], 'gm-am')"
   ]
  },
  {
   "cell_type": "code",
   "execution_count": null,
   "metadata": {},
   "outputs": [],
   "source": []
  }
 ],
 "metadata": {
  "interpreter": {
   "hash": "0307b5c48d2f2844bbfc3cfee182278233dbcde98b6c13456d7084cfbfaf7517"
  },
  "kernelspec": {
   "display_name": "Python 3.8.10 64-bit ('imu': conda)",
   "language": "python",
   "name": "python3"
  },
  "language_info": {
   "codemirror_mode": {
    "name": "ipython",
    "version": 3
   },
   "file_extension": ".py",
   "mimetype": "text/x-python",
   "name": "python",
   "nbconvert_exporter": "python",
   "pygments_lexer": "ipython3",
   "version": "3.8.10"
  },
  "orig_nbformat": 4
 },
 "nbformat": 4,
 "nbformat_minor": 2
}
