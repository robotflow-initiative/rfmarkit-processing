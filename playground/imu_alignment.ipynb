{
 "cells": [
  {
   "cell_type": "code",
   "execution_count": null,
   "metadata": {
    "collapsed": true
   },
   "outputs": [],
   "source": [
    "import numpy as np\n",
    "\n",
    "from internal.datamodels import PreReleaseIMUStreamModel\n",
    "import os.path as osp\n",
    "from internal.utils.algorithm import IMUAlgorithm\n",
    "%matplotlib ipympl"
   ]
  },
  {
   "cell_type": "code",
   "execution_count": null,
   "outputs": [],
   "source": [
    "recording_path = r\"D:\\pre-release\\data\\immobile\\bottle-015-1\"\n",
    "imu_path = osp.join(recording_path, \"imu\")\n",
    "\n",
    "dataset = PreReleaseIMUStreamModel(imu_path)\n",
    "dataset.load()"
   ],
   "metadata": {
    "collapsed": false
   }
  },
  {
   "cell_type": "code",
   "execution_count": null,
   "outputs": [],
   "source": [
    "print(dataset.recordings.keys())\n",
    "print(dataset.recordings['30c6f751c74c'].files)"
   ],
   "metadata": {
    "collapsed": false
   }
  },
  {
   "cell_type": "code",
   "execution_count": null,
   "outputs": [],
   "source": [
    "def get_start_index_per_recording(recording, key='gyro_x'):\n",
    "    dt =  recording['timestamp'][1:] -  recording['timestamp'][:-1]\n",
    "    dt_mask = dt > 1e6\n",
    "    idx = np.where(dt_mask == True)\n",
    "    assert len(idx) <= 1, \"More than one break point, data might corrupt\"\n",
    "    if (len(idx) == 1):\n",
    "        start_idx = idx[0] + 1\n",
    "    else:\n",
    "        start_idx = 0\n",
    "\n",
    "    conv_kernel = np.array()\n",
    "    conv_result\n",
    "\n",
    "    # print(idx, recording['timestamp'][idx+1]-  recording['timestamp'][idx] )\n",
    "\n",
    "\n",
    "\n",
    "\n",
    "def get_start_index(imu_recordings):\n",
    "    device_ids = list(imu_recordings.keys())\n",
    "    print(\"devices: \", device_ids)\n",
    "    _start_index_dict = {device_id: get_start_index_per_recording(imu_recordings[device_id]) for device_id in device_ids}\n",
    "    return _start_index_dict\n"
   ],
   "metadata": {
    "collapsed": false
   }
  },
  {
   "cell_type": "code",
   "execution_count": null,
   "outputs": [],
   "source": [
    "get_start_index_per_recording(dataset.recordings['30c6f751c74c'])\n",
    "# np.convolve(np.array([1,0,-1]), dataset.recordings['30c6f751c74c']['gyro_x'][:, 0])\n",
    "len(dataset.recordings['30c6f751c74c']['gyro_x'][:, 0])"
   ],
   "metadata": {
    "collapsed": false
   }
  },
  {
   "cell_type": "code",
   "execution_count": null,
   "outputs": [],
   "source": [
    "start_idx = 11\n",
    "IMUAlgorithm.visualize_nd([dataset.recordings[device_id]['gyro_x'][start_idx:, 0] for device_id in dataset.recordings.keys()],\n",
    "                          [dataset.recordings[device_id]['timestamp'][start_idx:] for device_id in dataset.recordings.keys()],\n",
    "                          title=\"gyro_x\")"
   ],
   "metadata": {
    "collapsed": false
   }
  },
  {
   "cell_type": "code",
   "execution_count": null,
   "outputs": [],
   "source": [
    "IMUAlgorithm.visualize_nd([np.convolve(np.ones(shape=(128,)), abs(dataset.recordings[device_id]['gyro_x'][start_idx:, 0]))[127:]<2000 for device_id in dataset.recordings.keys()],\n",
    "                          [dataset.recordings[device_id]['timestamp'][start_idx:] for device_id in dataset.recordings.keys()],\n",
    "                          title=\"gyro_x\")"
   ],
   "metadata": {
    "collapsed": false
   }
  },
  {
   "cell_type": "code",
   "execution_count": null,
   "outputs": [],
   "source": [],
   "metadata": {
    "collapsed": false
   }
  }
 ],
 "metadata": {
  "kernelspec": {
   "display_name": "Python 3",
   "language": "python",
   "name": "python3"
  },
  "language_info": {
   "codemirror_mode": {
    "name": "ipython",
    "version": 2
   },
   "file_extension": ".py",
   "mimetype": "text/x-python",
   "name": "python",
   "nbconvert_exporter": "python",
   "pygments_lexer": "ipython2",
   "version": "2.7.6"
  }
 },
 "nbformat": 4,
 "nbformat_minor": 0
}
