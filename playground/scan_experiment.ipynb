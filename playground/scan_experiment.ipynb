{
 "cells": [
  {
   "cell_type": "code",
   "execution_count": null,
   "metadata": {},
   "outputs": [],
   "source": [
    "import uuid\n",
    "import yaml\n",
    "from articulated_kit.model import DefaultExperiment, DefaultTarget\n",
    "import os.path as osp"
   ]
  },
  {
   "cell_type": "code",
   "execution_count": null,
   "metadata": {
    "tags": [
     "parameters"
    ]
   },
   "outputs": [],
   "source": [
    "# print(uuid.uuid1().__str__())\n",
    "# print(uuid.uuid1().__str__())\n",
    "cali_mapping = {\n",
    "    '_cali-1': '_cali-ea88477f-7782-11ed-954e-a8a159b5934c',\n",
    "    '_cali-2': '_cali-52ca7a9f-7c2a-11ed-adef-a8a159b5934c',\n",
    "    '_cali-0': '',\n",
    "    '_cali-ea88477f-7782-11ed-954e-a8a159b5934c':'_cali-ea88477f-7782-11ed-954e-a8a159b5934c',\n",
    "    '_cali-52ca7a9f-7c2a-11ed-adef-a8a159b5934c':'_cali-52ca7a9f-7c2a-11ed-adef-a8a159b5934c',\n",
    "    '':''\n",
    "}"
   ]
  },
  {
   "cell_type": "code",
   "execution_count": null,
   "metadata": {},
   "outputs": [],
   "source": [
    "# INDEX_FILENAME = \"../logs/metadata/experiment-001/index.yaml\"\n",
    "# INDEX_NAME = \"experiment-001\"\n",
    "# RECORD_BASE_DIR = r\"\\\\100.99.96.101\\articulated_recording\\pre-release\\data\\immobile\"\n",
    "# META_DATA_BASE_DIR = r\"\\\\100.99.96.101\\articulated_recording\\pre-release\\metadata\"\n",
    "# TYPE_NAME = \"immobile\"\n",
    "\n",
    "###################################################################################\n",
    "\n",
    "INDEX_FILENAME = \"../logs/metadata/experiment-002/index.yaml\"\n",
    "INDEX_NAME = \"experiment-002\"\n",
    "RECORD_BASE_DIR = r\"\\\\100.99.96.101\\articulated_recording\\pre-release\\data\\portable\"\n",
    "META_DATA_BASE_DIR = r\"\\\\100.99.96.101\\articulated_recording\\pre-release\\metadata\"\n",
    "TYPE_NAME = \"portable\""
   ]
  },
  {
   "cell_type": "code",
   "execution_count": null,
   "metadata": {},
   "outputs": [],
   "source": [
    "experiment = DefaultExperiment(name=INDEX_NAME, path_to_yaml_file=INDEX_FILENAME)\n",
    "experiment.name = TYPE_NAME\n",
    "for t in experiment.targets:\n",
    "    t.associated_calibration = cali_mapping[t.associated_calibration]\n",
    "    t.recordings = list(filter(lambda x: osp.exists(osp.join(RECORD_BASE_DIR, x)), t.recordings))\n",
    "    t.tag = t.tag + '-' + TYPE_NAME"
   ]
  },
  {
   "cell_type": "code",
   "execution_count": null,
   "metadata": {},
   "outputs": [],
   "source": [
    "[x.recordings for x in list(filter(lambda x: len(x.recordings) !=1,experiment.targets))]\n"
   ]
  },
  {
   "cell_type": "code",
   "execution_count": null,
   "metadata": {},
   "outputs": [],
   "source": [
    "experiment.targets"
   ]
  },
  {
   "cell_type": "code",
   "execution_count": null,
   "metadata": {},
   "outputs": [],
   "source": [
    "with open(osp.join(META_DATA_BASE_DIR, TYPE_NAME, \"index.yaml\"), 'w') as f:\n",
    "    yaml.dump({'articulated_kit': experiment.get_dict()}, f, sort_keys=False)"
   ]
  },
  {
   "cell_type": "code",
   "execution_count": null,
   "metadata": {},
   "outputs": [],
   "source": [
    "# bottle-03-immobile has extra imu\n",
    "# drawer-003-2 not so good\n",
    "\n",
    "\n",
    "# IMU个数是否对\n",
    "# IMU时长是否合理"
   ]
  }
 ],
 "metadata": {
  "kernelspec": {
   "display_name": "Python 3.9.7 ('imu')",
   "language": "python",
   "name": "python3"
  },
  "language_info": {
   "codemirror_mode": {
    "name": "ipython",
    "version": 3
   },
   "file_extension": ".py",
   "mimetype": "text/x-python",
   "name": "python",
   "nbconvert_exporter": "python",
   "pygments_lexer": "ipython3",
   "version": "3.9.7"
  },
  "orig_nbformat": 4,
  "vscode": {
   "interpreter": {
    "hash": "436344a98add8d4fb0e57955438b03ed969d5d1999a4517ac496add245a3e880"
   }
  }
 },
 "nbformat": 4,
 "nbformat_minor": 2
}
