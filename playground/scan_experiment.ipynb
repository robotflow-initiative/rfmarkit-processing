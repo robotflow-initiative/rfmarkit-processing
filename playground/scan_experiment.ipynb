{
 "cells": [
  {
   "cell_type": "code",
   "execution_count": 1,
   "metadata": {},
   "outputs": [],
   "source": [
    "import uuid\n",
    "import yaml\n",
    "from articulated_kit.model import DefaultExperiment, DefaultTarget\n",
    "import os.path as osp"
   ]
  },
  {
   "cell_type": "code",
   "execution_count": 2,
   "metadata": {
    "tags": [
     "parameters"
    ]
   },
   "outputs": [],
   "source": [
    "# print(uuid.uuid1().__str__())\n",
    "# print(uuid.uuid1().__str__())\n",
    "cali_mapping = {\n",
    "    '_cali-1': '_cali-ea88477f-7782-11ed-954e-a8a159b5934c',\n",
    "    '_cali-2': '_cali-ea88477f-7782-11ed-954e-a8a159b5934c',\n",
    "    '_cali-0': '',\n",
    "    '_cali-ea88477f-7782-11ed-954e-a8a159b5934c':'_cali-ea88477f-7782-11ed-954e-a8a159b5934c',\n",
    "    '_cali-ea88477f-7782-11ed-954e-a8a159b5934c':'_cali-ea88477f-7782-11ed-954e-a8a159b5934c',\n",
    "    '':''\n",
    "}"
   ]
  },
  {
   "cell_type": "code",
   "execution_count": 27,
   "metadata": {},
   "outputs": [],
   "source": [
    "# INDEX_FILENAME = \"../metadata/experiment-001/index.yaml\"\n",
    "# INDEX_NAME = \"experiment-001\"\n",
    "# RECORD_BASE_DIR = r\"\\\\100.99.96.101\\articulated_recording\\pre-release\\data\\immobile\"\n",
    "# META_DATA_BASE_DIR = r\"\\\\100.99.96.101\\articulated_recording\\pre-release\\metadata\"\n",
    "# TYPE_NAME = \"immobile\"\n",
    "\n",
    "###################################################################################\n",
    "\n",
    "INDEX_FILENAME = \"../metadata/experiment-002/index.yaml\"\n",
    "INDEX_NAME = \"experiment-002\"\n",
    "RECORD_BASE_DIR = r\"\\\\100.99.96.101\\articulated_recording\\pre-release\\data\\portable\"\n",
    "META_DATA_BASE_DIR = r\"\\\\100.99.96.101\\articulated_recording\\pre-release\\metadata\"\n",
    "TYPE_NAME = \"portable\""
   ]
  },
  {
   "cell_type": "code",
   "execution_count": 30,
   "metadata": {},
   "outputs": [],
   "source": [
    "experiment = DefaultExperiment(name=INDEX_NAME, path_to_yaml_file=INDEX_FILENAME)\n",
    "experiment.name = TYPE_NAME\n",
    "for t in experiment.targets:\n",
    "    t.associated_calibration = cali_mapping[t.associated_calibration]\n",
    "    t.recordings = list(filter(lambda x: osp.exists(osp.join(RECORD_BASE_DIR, x)), t.recordings))\n",
    "    t.tag = t.tag + '-' + TYPE_NAME"
   ]
  },
  {
   "cell_type": "code",
   "execution_count": 31,
   "metadata": {},
   "outputs": [
    {
     "data": {
      "text/plain": [
       "[]"
      ]
     },
     "execution_count": 31,
     "metadata": {},
     "output_type": "execute_result"
    }
   ],
   "source": [
    "[x.recordings for x in list(filter(lambda x: len(x.recordings) !=1,experiment.targets))]\n"
   ]
  },
  {
   "cell_type": "code",
   "execution_count": 32,
   "metadata": {},
   "outputs": [
    {
     "data": {
      "text/plain": [
       "[DefaultTarget(tag='bottle-014-portable', uuid='f5511c12-7380-11ed-ac8c-a8a159b5934c', finished=True, imu_dependency=[], imu_toggled=[], recordings=['bottle-014-1'], targets=None, associated_calibration='', comment=''),\n",
       " DefaultTarget(tag='bottle-015-portable', uuid='f551432d-7380-11ed-a810-a8a159b5934c', finished=True, imu_dependency=[], imu_toggled=[], recordings=['bottle-015-2'], targets=None, associated_calibration='', comment=''),\n",
       " DefaultTarget(tag='bottle-017-portable', uuid='f551432e-7380-11ed-b08b-a8a159b5934c', finished=True, imu_dependency=[], imu_toggled=[], recordings=['bottle-017-1'], targets=None, associated_calibration='', comment=''),\n",
       " DefaultTarget(tag='bottle-018-portable', uuid='f551432f-7380-11ed-ba68-a8a159b5934c', finished=True, imu_dependency=[], imu_toggled=[], recordings=['bottle-018-1'], targets=None, associated_calibration='', comment=''),\n",
       " DefaultTarget(tag='bottle-023-portable', uuid='f5514330-7380-11ed-bb01-a8a159b5934c', finished=True, imu_dependency=[], imu_toggled=[], recordings=['bottle-023-1'], targets=None, associated_calibration='', comment=''),\n",
       " DefaultTarget(tag='bottle-028-portable', uuid='f5514331-7380-11ed-a60f-a8a159b5934c', finished=True, imu_dependency=[], imu_toggled=[], recordings=['bottle-028-1'], targets=None, associated_calibration='', comment=''),\n",
       " DefaultTarget(tag='bottle-031-portable', uuid='f5514332-7380-11ed-94ae-a8a159b5934c', finished=True, imu_dependency=[], imu_toggled=[], recordings=['bottle-031-1'], targets=None, associated_calibration='', comment=''),\n",
       " DefaultTarget(tag='box-005-portable', uuid='f5514333-7380-11ed-9a86-a8a159b5934c', finished=True, imu_dependency=[], imu_toggled=[], recordings=['box-005-3'], targets=None, associated_calibration='', comment=''),\n",
       " DefaultTarget(tag='box-024-portable', uuid='f5514334-7380-11ed-a94f-a8a159b5934c', finished=True, imu_dependency=[], imu_toggled=[], recordings=['box-024-1'], targets=None, associated_calibration='', comment=''),\n",
       " DefaultTarget(tag='box-026-portable', uuid='f5514335-7380-11ed-9a76-a8a159b5934c', finished=True, imu_dependency=[], imu_toggled=[], recordings=['box-026-1'], targets=None, associated_calibration='', comment=''),\n",
       " DefaultTarget(tag='box-027-portable', uuid='f5514336-7380-11ed-8f21-a8a159b5934c', finished=True, imu_dependency=[], imu_toggled=[], recordings=['box-027-3'], targets=None, associated_calibration='', comment=''),\n",
       " DefaultTarget(tag='box-033-portable', uuid='f5514337-7380-11ed-b6cc-a8a159b5934c', finished=True, imu_dependency=[], imu_toggled=[], recordings=['box-033-1'], targets=None, associated_calibration='', comment=''),\n",
       " DefaultTarget(tag='bucket-004-portable', uuid='f5514338-7380-11ed-9ff2-a8a159b5934c', finished=True, imu_dependency=[], imu_toggled=[], recordings=['bucket-004-2'], targets=None, associated_calibration='', comment=''),\n",
       " DefaultTarget(tag='bucket-019-portable', uuid='f5514339-7380-11ed-be2c-a8a159b5934c', finished=True, imu_dependency=[], imu_toggled=[], recordings=['bucket-019-1'], targets=None, associated_calibration='', comment=''),\n",
       " DefaultTarget(tag='bucket-021-portable', uuid='f551433a-7380-11ed-a595-a8a159b5934c', finished=True, imu_dependency=[], imu_toggled=[], recordings=['bucket-021-1'], targets=None, associated_calibration='', comment=''),\n",
       " DefaultTarget(tag='bucket-022-portable', uuid='f551433b-7380-11ed-9ef5-a8a159b5934c', finished=True, imu_dependency=[], imu_toggled=[], recordings=['bucket-022-1'], targets=None, associated_calibration='', comment=''),\n",
       " DefaultTarget(tag='bucket-057-portable', uuid='f551433c-7380-11ed-bc2c-a8a159b5934c', finished=True, imu_dependency=[], imu_toggled=[], recordings=['bucket-057-1'], targets=None, associated_calibration='', comment=''),\n",
       " DefaultTarget(tag='clip-009-portable', uuid='f551433d-7380-11ed-96ac-a8a159b5934c', finished=True, imu_dependency=[], imu_toggled=[], recordings=['clip-009-1'], targets=None, associated_calibration='', comment=''),\n",
       " DefaultTarget(tag='clip-029-portable', uuid='f551433e-7380-11ed-8d4e-a8a159b5934c', finished=True, imu_dependency=[], imu_toggled=[], recordings=['clip-029-1'], targets=None, associated_calibration='', comment=''),\n",
       " DefaultTarget(tag='clip-032-portable', uuid='f551433f-7380-11ed-a715-a8a159b5934c', finished=True, imu_dependency=[], imu_toggled=[], recordings=['clip-032-2'], targets=None, associated_calibration='', comment=''),\n",
       " DefaultTarget(tag='clip-036-portable', uuid='f5514340-7380-11ed-bcf6-a8a159b5934c', finished=True, imu_dependency=[], imu_toggled=[], recordings=['clip-036-1'], targets=None, associated_calibration='', comment=''),\n",
       " DefaultTarget(tag='clip-042-portable', uuid='f5514341-7380-11ed-a0fe-a8a159b5934c', finished=True, imu_dependency=[], imu_toggled=[], recordings=['clip-042-1'], targets=None, associated_calibration='', comment=''),\n",
       " DefaultTarget(tag='cup-007-portable', uuid='f5514342-7380-11ed-88e8-a8a159b5934c', finished=True, imu_dependency=[], imu_toggled=[], recordings=['cup-007-1'], targets=None, associated_calibration='', comment=''),\n",
       " DefaultTarget(tag='cup-030-portable', uuid='f5514343-7380-11ed-b544-a8a159b5934c', finished=True, imu_dependency=[], imu_toggled=[], recordings=['cup-030-2'], targets=None, associated_calibration='', comment=''),\n",
       " DefaultTarget(tag='cup-044-portable', uuid='f5514344-7380-11ed-8d30-a8a159b5934c', finished=True, imu_dependency=[], imu_toggled=[], recordings=['cup-044-1'], targets=None, associated_calibration='', comment=''),\n",
       " DefaultTarget(tag='cup-045-portable', uuid='f5514345-7380-11ed-9dd7-a8a159b5934c', finished=True, imu_dependency=[], imu_toggled=[], recordings=['cup-045-1'], targets=None, associated_calibration='', comment=''),\n",
       " DefaultTarget(tag='drawer-001-portable', uuid='f5514346-7380-11ed-998e-a8a159b5934c', finished=True, imu_dependency=[], imu_toggled=[], recordings=['drawer-001-1'], targets=None, associated_calibration='', comment=''),\n",
       " DefaultTarget(tag='drawer-003-portable', uuid='f5514347-7380-11ed-af57-a8a159b5934c', finished=True, imu_dependency=[], imu_toggled=[], recordings=['drawer-003-2'], targets=None, associated_calibration='', comment=''),\n",
       " DefaultTarget(tag='drawer-006-portable', uuid='f5514348-7380-11ed-9e0f-a8a159b5934c', finished=True, imu_dependency=[], imu_toggled=[], recordings=['drawer-006-1'], targets=None, associated_calibration='', comment=''),\n",
       " DefaultTarget(tag='drawer-010-portable', uuid='f5514349-7380-11ed-80f2-a8a159b5934c', finished=True, imu_dependency=[], imu_toggled=[], recordings=['drawer-010-1'], targets=None, associated_calibration='', comment=''),\n",
       " DefaultTarget(tag='drawer-020-portable', uuid='f551434a-7380-11ed-93c7-a8a159b5934c', finished=True, imu_dependency=[], imu_toggled=[], recordings=['drawer-020-1'], targets=None, associated_calibration='', comment=''),\n",
       " DefaultTarget(tag='eyeglasses-039-portable', uuid='f551434b-7380-11ed-8e40-a8a159b5934c', finished=True, imu_dependency=[], imu_toggled=[], recordings=['eyeglasses-039-1'], targets=None, associated_calibration='', comment=''),\n",
       " DefaultTarget(tag='eyeglasses-040-portable', uuid='f551434c-7380-11ed-8417-a8a159b5934c', finished=True, imu_dependency=[], imu_toggled=[], recordings=['eyeglasses-040-1'], targets=None, associated_calibration='', comment=''),\n",
       " DefaultTarget(tag='eyeglasses-049-portable', uuid='f551434d-7380-11ed-94f8-a8a159b5934c', finished=True, imu_dependency=[], imu_toggled=[], recordings=['eyeglasses-049-1'], targets=None, associated_calibration='', comment=''),\n",
       " DefaultTarget(tag='eyeglasses-050-portable', uuid='f551434e-7380-11ed-8796-a8a159b5934c', finished=True, imu_dependency=[], imu_toggled=[], recordings=['eyeglasses-050-3'], targets=None, associated_calibration='', comment=''),\n",
       " DefaultTarget(tag='eyeglasses-051-portable', uuid='f551434f-7380-11ed-bf2d-a8a159b5934c', finished=True, imu_dependency=[], imu_toggled=[], recordings=['eyeglasses-051-2'], targets=None, associated_calibration='', comment=''),\n",
       " DefaultTarget(tag='faucet-038-portable', uuid='f5514350-7380-11ed-ac03-a8a159b5934c', finished=True, imu_dependency=[], imu_toggled=[], recordings=['faucet-038-1'], targets=None, associated_calibration='', comment=''),\n",
       " DefaultTarget(tag='faucet-043-portable', uuid='f5514351-7380-11ed-a32e-a8a159b5934c', finished=True, imu_dependency=[], imu_toggled=[], recordings=['faucet-043-1'], targets=None, associated_calibration='', comment=''),\n",
       " DefaultTarget(tag='faucet-046-portable', uuid='f5514352-7380-11ed-a949-a8a159b5934c', finished=True, imu_dependency=[], imu_toggled=[], recordings=['faucet-046-1'], targets=None, associated_calibration='', comment=''),\n",
       " DefaultTarget(tag='faucet-047-portable', uuid='f5514353-7380-11ed-b6a5-a8a159b5934c', finished=True, imu_dependency=[], imu_toggled=[], recordings=['faucet-047-1'], targets=None, associated_calibration='', comment=''),\n",
       " DefaultTarget(tag='faucet-048-portable', uuid='f5514354-7380-11ed-ab92-a8a159b5934c', finished=True, imu_dependency=[], imu_toggled=[], recordings=['faucet-048-1'], targets=None, associated_calibration='', comment=''),\n",
       " DefaultTarget(tag='misc-011-portable', uuid='f5514355-7380-11ed-8970-a8a159b5934c', finished=True, imu_dependency=[], imu_toggled=[], recordings=['misc-011-1'], targets=None, associated_calibration='', comment=''),\n",
       " DefaultTarget(tag='misc-016-portable', uuid='f5514356-7380-11ed-96c1-a8a159b5934c', finished=True, imu_dependency=[], imu_toggled=[], recordings=['misc-016-1'], targets=None, associated_calibration='', comment=''),\n",
       " DefaultTarget(tag='misc-025-portable', uuid='f5514357-7380-11ed-be4e-a8a159b5934c', finished=True, imu_dependency=[], imu_toggled=[], recordings=['misc-025-1'], targets=None, associated_calibration='', comment=''),\n",
       " DefaultTarget(tag='scissors-037-portable', uuid='f5514358-7380-11ed-afdd-a8a159b5934c', finished=True, imu_dependency=[], imu_toggled=[], recordings=['scissors-037-1'], targets=None, associated_calibration='', comment=''),\n",
       " DefaultTarget(tag='scissors-052-portable', uuid='f5514359-7380-11ed-b8b6-a8a159b5934c', finished=True, imu_dependency=[], imu_toggled=[], recordings=['scissors-052-1'], targets=None, associated_calibration='', comment=''),\n",
       " DefaultTarget(tag='scissors-053-portable', uuid='f551435a-7380-11ed-8af9-a8a159b5934c', finished=True, imu_dependency=[], imu_toggled=[], recordings=['scissors-053-1'], targets=None, associated_calibration='', comment=''),\n",
       " DefaultTarget(tag='scissors-054-portable', uuid='f551435b-7380-11ed-a34c-a8a159b5934c', finished=True, imu_dependency=[], imu_toggled=[], recordings=['scissors-054-1'], targets=None, associated_calibration='', comment=''),\n",
       " DefaultTarget(tag='stapler-013-portable', uuid='f551435c-7380-11ed-9ebf-a8a159b5934c', finished=True, imu_dependency=[], imu_toggled=[], recordings=['stapler-013-1'], targets=None, associated_calibration='', comment=''),\n",
       " DefaultTarget(tag='stapler-034-portable', uuid='f551435d-7380-11ed-ba9b-a8a159b5934c', finished=True, imu_dependency=[], imu_toggled=[], recordings=['stapler-034-2'], targets=None, associated_calibration='', comment=''),\n",
       " DefaultTarget(tag='stapler-035-portable', uuid='f551435e-7380-11ed-aa20-a8a159b5934c', finished=True, imu_dependency=[], imu_toggled=[], recordings=['stapler-035-1'], targets=None, associated_calibration='', comment=''),\n",
       " DefaultTarget(tag='stapler-055-portable', uuid='f551435f-7380-11ed-8f97-a8a159b5934c', finished=True, imu_dependency=[], imu_toggled=[], recordings=['stapler-055-1'], targets=None, associated_calibration='', comment=''),\n",
       " DefaultTarget(tag='stapler-056-portable', uuid='f5514360-7380-11ed-9858-a8a159b5934c', finished=True, imu_dependency=[], imu_toggled=[], recordings=['stapler-056-1'], targets=None, associated_calibration='', comment='')]"
      ]
     },
     "execution_count": 32,
     "metadata": {},
     "output_type": "execute_result"
    }
   ],
   "source": [
    "experiment.targets"
   ]
  },
  {
   "cell_type": "code",
   "execution_count": 33,
   "metadata": {},
   "outputs": [],
   "source": [
    "with open(osp.join(META_DATA_BASE_DIR, TYPE_NAME + \".yaml\"), 'w') as f:\n",
    "    yaml.dump(experiment.get_dict(), f, sort_keys=False)"
   ]
  },
  {
   "cell_type": "code",
   "execution_count": null,
   "metadata": {},
   "outputs": [],
   "source": [
    "# bottle-03-immobile has extra imu\n",
    "# drawer-003-2 not so good\n",
    "\n",
    "\n",
    "# IMU个数是否对\n",
    "# IMU时长是否合理"
   ]
  }
 ],
 "metadata": {
  "kernelspec": {
   "display_name": "Python 3.9.7 ('imu')",
   "language": "python",
   "name": "python3"
  },
  "language_info": {
   "codemirror_mode": {
    "name": "ipython",
    "version": 3
   },
   "file_extension": ".py",
   "mimetype": "text/x-python",
   "name": "python",
   "nbconvert_exporter": "python",
   "pygments_lexer": "ipython3",
   "version": "3.9.7"
  },
  "orig_nbformat": 4,
  "vscode": {
   "interpreter": {
    "hash": "436344a98add8d4fb0e57955438b03ed969d5d1999a4517ac496add245a3e880"
   }
  }
 },
 "nbformat": 4,
 "nbformat_minor": 2
}
