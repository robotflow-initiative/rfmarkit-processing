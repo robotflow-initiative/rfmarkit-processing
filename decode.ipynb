{
 "cells": [
  {
   "cell_type": "code",
   "execution_count": null,
   "metadata": {},
   "outputs": [],
   "source": [
    "import cv2\n",
    "import numpy as np\n",
    "from typing import Union"
   ]
  },
  {
   "cell_type": "code",
   "execution_count": null,
   "metadata": {},
   "outputs": [],
   "source": [
    "def decode_sensor_id(timestamp: np.array, points: np.array, stimulis: np.array) -> Union[None, int]:\n",
    "    \"\"\"Decode sensor id from image sequence\n",
    "\n",
    "    Args:\n",
    "        timestamp (np.array): T x 1 array\n",
    "        points (np.array): T x 2; [:,0] for x, [:,1] for y\n",
    "                W\n",
    "            --------> x\n",
    "            |\n",
    "          H |\n",
    "            |\n",
    "            y\n",
    "        stimulis (np.array): T x H x W x C image sequence\n",
    "\n",
    "    Raises:\n",
    "        NotImplementedError: Not implemented\n",
    "    \n",
    "    Returns:\n",
    "        None if failed to decode\n",
    "    \"\"\"\n",
    "    raise NotImplementedError"
   ]
  },
  {
   "cell_type": "code",
   "execution_count": null,
   "metadata": {},
   "outputs": [],
   "source": []
  }
 ],
 "metadata": {
  "interpreter": {
   "hash": "0307b5c48d2f2844bbfc3cfee182278233dbcde98b6c13456d7084cfbfaf7517"
  },
  "kernelspec": {
   "display_name": "Python 3.8.10 64-bit ('imu': conda)",
   "language": "python",
   "name": "python3"
  },
  "language_info": {
   "codemirror_mode": {
    "name": "ipython",
    "version": 3
   },
   "file_extension": ".py",
   "mimetype": "text/x-python",
   "name": "python",
   "nbconvert_exporter": "python",
   "pygments_lexer": "ipython3",
   "version": "3.8.10"
  },
  "orig_nbformat": 4
 },
 "nbformat": 4,
 "nbformat_minor": 2
}
