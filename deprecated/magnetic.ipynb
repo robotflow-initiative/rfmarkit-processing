{
 "cells": [
  {
   "cell_type": "code",
   "execution_count": null,
   "metadata": {},
   "outputs": [],
   "source": [
    "import numpy as np\n",
    "import matplotlib.pyplot as plt\n",
    "import json\n",
    "import scipy\n",
    "from typing import List, Any, Dict, Union\n",
    "import transforms3d as t3d\n",
    "from scipy import signal\n",
    "import math\n",
    "from helpers import load_data_from_json\n",
    "from serial2json import entry\n",
    "import datetime"
   ]
  },
  {
   "cell_type": "code",
   "execution_count": null,
   "metadata": {},
   "outputs": [],
   "source": [
    "STM32_PORTS: list = ['/dev/cu.usbserial-120']\n",
    "filename = datetime.datetime.now().strftime(\"%Y-%m-%d-%H:%M:%S\")\n",
    "entry(STM32_PORTS, filename)"
   ]
  },
  {
   "cell_type": "code",
   "execution_count": null,
   "metadata": {},
   "outputs": [],
   "source": [
    "data = load_data_from_json('2021-09-28-17:23:58_cu.usbserial-120_IMU_record.json')"
   ]
  },
  {
   "cell_type": "code",
   "execution_count": null,
   "metadata": {},
   "outputs": [],
   "source": [
    "mag = data['mag']\n",
    "timestamp = data['timestamp']\n",
    "\n",
    "fig = plt.figure(figsize=(32,8))\n",
    "\n",
    "ax = fig.add_subplot(141, projection='3d')\n",
    "ax.scatter(mag[:,0], mag[:,1], mag[:,2], c=timestamp)\n",
    "ax.set_xlabel('MAG-X', fontdict={'size': 15, 'color': 'red'})\n",
    "ax.set_ylabel('MAG-Y', fontdict={'size': 15, 'color': 'red'})\n",
    "ax.set_zlabel('MAG-Z', fontdict={'size': 15, 'color': 'red'})\n",
    "\n",
    "\n",
    "ax = fig.add_subplot(142)\n",
    "ax.scatter(timestamp,mag[:,0])\n",
    "ax.set_title('MAG-X')\n",
    "\n",
    "\n",
    "ax = fig.add_subplot(143)\n",
    "ax.scatter(timestamp,mag[:,1])\n",
    "ax.set_title('MAG-Y')\n",
    "\n",
    "\n",
    "ax = fig.add_subplot(144)\n",
    "ax.scatter(timestamp,mag[:,2])\n",
    "ax.set_title('MAG-Z')"
   ]
  },
  {
   "cell_type": "code",
   "execution_count": null,
   "metadata": {},
   "outputs": [],
   "source": [
    "mag_cal = np.zeros_like(mag)\n",
    "pose_mat = data['pose_mat']\n",
    "for i in range(len(timestamp)):\n",
    "    mag_cal[i] = pose_mat[i] @ mag[i]"
   ]
  },
  {
   "cell_type": "code",
   "execution_count": null,
   "metadata": {},
   "outputs": [],
   "source": [
    "mag = mag_cal\n",
    "timestamp = data['timestamp']\n",
    "\n",
    "fig = plt.figure(figsize=(32,8))\n",
    "\n",
    "ax = fig.add_subplot(141, projection='3d')\n",
    "ax.scatter(mag[:,0], mag[:,1], mag[:,2], c=timestamp)\n",
    "ax.set_xlabel('MAG-X', fontdict={'size': 15, 'color': 'red'})\n",
    "ax.set_ylabel('MAG-Y', fontdict={'size': 15, 'color': 'red'})\n",
    "ax.set_zlabel('MAG-Z', fontdict={'size': 15, 'color': 'red'})\n",
    "\n",
    "\n",
    "ax = fig.add_subplot(142)\n",
    "ax.scatter(timestamp,mag[:,0])\n",
    "ax.set_title('MAG-X')\n",
    "\n",
    "\n",
    "ax = fig.add_subplot(143)\n",
    "ax.scatter(timestamp,mag[:,1])\n",
    "ax.set_title('MAG-Y')\n",
    "\n",
    "\n",
    "ax = fig.add_subplot(144)\n",
    "ax.scatter(timestamp,mag[:,2])\n",
    "ax.set_title('MAG-Z')"
   ]
  },
  {
   "cell_type": "code",
   "execution_count": null,
   "metadata": {},
   "outputs": [],
   "source": [
    "import matplotlib.pyplot as plt\n",
    "from helpers import load_data_from_json\n",
    "\n",
    "\n",
    "data = load_data_from_json('2021-09-28-17:23:58_cu.usbserial-120_IMU_record.json')\n",
    "mag = data['mag']\n",
    "timestamp = data['timestamp']\n",
    "\n",
    "fig = plt.figure(figsize=(8,8))\n",
    "\n",
    "ax = fig.add_subplot(111, projection='3d')\n",
    "ax.scatter(mag[:,0], mag[:,1], mag[:,2], c=timestamp)\n",
    "ax.set_xlabel('MAG-X', fontdict={'size': 15, 'color': 'red'})\n",
    "ax.set_ylabel('MAG-Y', fontdict={'size': 15, 'color': 'red'})\n",
    "ax.set_zlabel('MAG-Z', fontdict={'size': 15, 'color': 'red'})\n",
    "\n",
    "plt.show()"
   ]
  }
 ],
 "metadata": {
  "interpreter": {
   "hash": "0307b5c48d2f2844bbfc3cfee182278233dbcde98b6c13456d7084cfbfaf7517"
  },
  "kernelspec": {
   "display_name": "Python 3.8.10 64-bit ('imu': conda)",
   "name": "python3"
  },
  "language_info": {
   "codemirror_mode": {
    "name": "ipython",
    "version": 3
   },
   "file_extension": ".py",
   "mimetype": "text/x-python",
   "name": "python",
   "nbconvert_exporter": "python",
   "pygments_lexer": "ipython3",
   "version": "3.8.10"
  },
  "orig_nbformat": 4
 },
 "nbformat": 4,
 "nbformat_minor": 2
}
