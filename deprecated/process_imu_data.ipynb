{
 "cells": [
  {
   "cell_type": "code",
   "execution_count": null,
   "metadata": {},
   "outputs": [],
   "source": [
    "import numpy as np\n",
    "import matplotlib.pyplot as plt\n",
    "import json\n",
    "import scipy\n",
    "from typing import List, Any, Dict, Union, Tuple\n",
    "import transforms3d as t3d\n",
    "from scipy import signal\n",
    "import math\n",
    "from helpers import vectorize_to_np, rpy_to_pose_mat_np, visualize_3d, parse_record,visualize_1d"
   ]
  },
  {
   "cell_type": "code",
   "execution_count": null,
   "metadata": {},
   "outputs": [],
   "source": [
    "# filter accel\n",
    "def filter_accel(accel: np.ndarray, band: Tuple[float, float] = (0.005, 0.9999)):\n",
    "    res = np.copy(accel)\n",
    "    b, a = signal.butter(7, band, 'bandpass')\n",
    "    res[:, 0] = signal.filtfilt(b, a, accel[:, 0])\n",
    "    res[:, 1] = signal.filtfilt(b, a, accel[:, 1])\n",
    "    res[:, 2] = signal.filtfilt(b, a, accel[:, 2])\n",
    "    return res\n",
    "\n",
    "\n",
    "def get_gravity_projection(rpy, local_gravity: np.ndarray = np.array([0, 0, -9.8]), thresh: int = 50):\n",
    "    _pose_mat = t3d.euler.euler2mat(rpy[:thresh, 0].mean(), rpy[:thresh, 1].mean(), rpy[:thresh, 2].mean())\n",
    "    g = _pose_mat @ local_gravity  # gravity projected to imu coordinate\n",
    "    return g\n",
    "\n",
    "\n",
    "def get_accel_offset(accel: np.ndarray,\n",
    "                     g: np.ndarray,\n",
    "                     thresh: int = 100) -> np.ndarray:\n",
    "    reading = np.mean(accel[:thresh, :], axis=0)\n",
    "    offset = reading - g\n",
    "    return offset"
   ]
  },
  {
   "cell_type": "markdown",
   "metadata": {},
   "source": [
    "## Zero-velocity update policy\n",
    "- filter of vel\n",
    "- thresh hold"
   ]
  },
  {
   "cell_type": "code",
   "execution_count": null,
   "metadata": {},
   "outputs": [],
   "source": [
    "def zero_vel_determination(\n",
    "    vel: np.ndarray,\n",
    "    gyro: np.ndarray,\n",
    "    accel: np.ndarray,\n",
    "    thresh: Tuple[float] = (0.1,0.1,5,0.1)\n",
    ") -> bool:\n",
    "    if vel.shape[0] > 0 and gyro.shape[0] > 0 and accel.shape[0] > 0:\n",
    "        vel_mean = np.sqrt(np.sum(np.mean(vel, axis=0)**2))\n",
    "        gyro_mean = np.sqrt(np.sum(np.mean(gyro, axis=0)**2))\n",
    "        gyro_std = np.mean(np.std(gyro, axis=0))\n",
    "        accel_mean = np.sqrt(np.sum(np.mean(accel, axis=0)**2))\n",
    "        accel_std = np.mean(np.std(accel, axis=0))\n",
    "        # print(vel_mean, gyro_mean, gyro_std, accel_mean, accel_std)\n",
    "        if gyro_mean < thresh[0] and gyro_std < thresh[1] and accel_mean < thresh[2] and accel_std < thresh[3]:\n",
    "            return True\n",
    "        else:\n",
    "            return False\n",
    "    else:\n",
    "        return False"
   ]
  },
  {
   "cell_type": "code",
   "execution_count": null,
   "metadata": {},
   "outputs": [],
   "source": [
    "record_name = '/Users/liyutong/projectExchange/imu-python-tools/2021-11-12-19:11:39_cu.usbserial-112420_IMU_record.json'\n",
    "accel_raw, rpy, gyro, pose_mat, timestamp = parse_record(record_name)\n",
    "\n",
    "# npzfile = np.load('imu_7cdfa1b9a340-2.npz')\n",
    "# accel_raw = np.squeeze(np.stack([npzfile['accel_x'], npzfile['accel_y'], npzfile['accel_z']], axis=1)) * 9.8\n",
    "# gyro = np.squeeze(np.stack([npzfile['gyro_x'], npzfile['gyro_y'], npzfile['gyro_z']], axis=1))\n",
    "# rpy = np.squeeze(np.stack([npzfile['roll'], npzfile['pitch'], npzfile['yaw']], axis=1)) * np.pi / 180\n",
    "# mag = np.squeeze(np.stack([npzfile['mag_x'], npzfile['mag_y'], npzfile['mag_z']], axis=1))\n",
    "# timestamp = npzfile['timestamp']\n",
    "# pose_mat = rpy_to_pose_mat_np(rpy)\n",
    "\n",
    "\n",
    "visualize_3d(accel_raw,timestamp, 'ACCE_RAW')\n",
    "thresh = 0\n",
    "accel_raw = accel_raw[thresh:]\n",
    "gyro = gyro[thresh:]\n",
    "rpy = rpy[thresh:]\n",
    "pose_mat = pose_mat[thresh:]\n",
    "timestamp = timestamp[thresh:]\n",
    "zero_vel = np.zeros_like(timestamp, dtype=np.int64)"
   ]
  },
  {
   "cell_type": "code",
   "execution_count": null,
   "metadata": {},
   "outputs": [],
   "source": [
    "GRAVITY_SHANGHAI = np.array([0,0,-9.7946])\n",
    "bias = np.array([-1.75098646,  0.10479917,  0.03107138]) # Previous iteration\n",
    "accel_raw -= bias\n",
    "\n",
    "accel = np.copy(accel_raw)\n",
    "# Project gravity to local coordinate, then substract accel initial readings (mesured g) with projected gravity\n",
    "# assumed_gain = np.array([1,1,1])\n",
    "g_projection = get_gravity_projection(rpy, GRAVITY_SHANGHAI, 50)\n",
    "print(f\"g_projection={g_projection}\")\n",
    "accel_bias = get_accel_offset(accel, g_projection, 50)\n",
    "print(f\"accel_bias={accel_bias}\")\n",
    "# accel -= accel_bias\n",
    "\n",
    "# Sustract gravity\n",
    "gravity = np.empty_like(accel)\n",
    "for i in range(len(timestamp)):\n",
    "    gravity[i] = pose_mat[i] @ GRAVITY_SHANGHAI\n",
    "accel -= gravity\n",
    "\n",
    "# filter accel\n",
    "accel = filter_accel(accel, (0.005,0.999))\n",
    "print(f\"accel.mean={np.mean(accel[:thresh,:],axis=0)}\")\n",
    "\n",
    "for i in range(len(timestamp)):\n",
    "    accel[i] = np.linalg.inv(pose_mat[i]) @ accel[i]"
   ]
  },
  {
   "cell_type": "code",
   "execution_count": null,
   "metadata": {},
   "outputs": [],
   "source": [
    "# calc velocity, with zero velocity update policy\n",
    "window_sz = 3\n",
    "vel = np.zeros_like(accel)\n",
    "for i in range(len(timestamp) - 1):\n",
    "    if zero_vel_determination(vel[i-window_sz:i,:], gyro[i-window_sz:i,:], accel[i-window_sz:i,:]):\n",
    "        vel[i + 1] = 0\n",
    "        zero_vel[i] = 1\n",
    "    else:\n",
    "        vel[i + 1] = vel[i] + 0.5 * (accel[i + 1] + accel[i]) * (timestamp[i + 1] - timestamp[i])\n",
    "\n",
    "# calc displacement\n",
    "# Mid-value integration\n",
    "pos = np.zeros_like(accel)\n",
    "for i in range(len(timestamp) - 1):\n",
    "    pos[i + 1] = pos[i] + 0.5 * (vel[i + 1] + vel[i]) * (timestamp[i + 1] - timestamp[i])\n",
    "\n",
    "\n",
    "col = np.ones_like(pos)\n",
    "col[:, 0] = np.linspace(1, 0, col.shape[0])\n",
    "\n",
    "print('Calc Finished')"
   ]
  },
  {
   "cell_type": "code",
   "execution_count": null,
   "metadata": {},
   "outputs": [],
   "source": [
    "visualize_3d(pos,timestamp, 'POS')\n",
    "visualize_3d(accel,timestamp, 'ACCEL')\n",
    "visualize_3d(gyro,timestamp, 'GYRO')\n",
    "visualize_3d(rpy,timestamp, 'RPY')\n",
    "visualize_3d(vel,timestamp, 'VEL')\n",
    "visualize_3d(gravity,timestamp, 'GRAVITY')\n",
    "visualize_1d(zero_vel, timestamp, 'ZV')\n"
   ]
  },
  {
   "cell_type": "markdown",
   "metadata": {},
   "source": [
    "HTN\n",
    "FastForward\n",
    "LGP"
   ]
  },
  {
   "cell_type": "code",
   "execution_count": null,
   "metadata": {},
   "outputs": [],
   "source": [
    "visualize_1d(zero_vel, timestamp, 'ZV')\n",
    "cali_points = []\n",
    "for idx, status in enumerate(zero_vel):\n",
    "    if status > 0:\n",
    "        cali_points.append({\"idx\": idx, \"mes\": accel_raw[idx],\"rpy\": rpy[idx], \"g\": gravity[idx]})\n",
    "        "
   ]
  },
  {
   "cell_type": "markdown",
   "metadata": {},
   "source": [
    "## Error model\n",
    "\n",
    "$mes = gain.real + bias + noise$\n",
    "\n",
    "$noise \\sim N(0,\\mu)$\n",
    "\n",
    "$\\overline{real} = gain^{-1}.(\\overline{mes} - bias)$"
   ]
  },
  {
   "cell_type": "code",
   "execution_count": null,
   "metadata": {},
   "outputs": [],
   "source": [
    "\n",
    "mes = []\n",
    "real = []\n",
    "for point in cali_points:\n",
    "    real_gravity = gravity[point['idx']]\n",
    "    mes.append(point['mes'])\n",
    "    real.append(real_gravity)\n",
    "mes = np.vstack(mes)\n",
    "real = np.vstack(real)\n",
    "# Plan1 mes = real + bias + noise\n",
    "\n",
    "bias = mes.mean(axis=0) - real.mean(axis=0)\n"
   ]
  },
  {
   "cell_type": "code",
   "execution_count": null,
   "metadata": {},
   "outputs": [],
   "source": [
    "accel[:,0].sum()\n",
    "accel[:,1].sum()\n",
    "accel[:,2].sum()"
   ]
  },
  {
   "cell_type": "code",
   "execution_count": null,
   "metadata": {},
   "outputs": [],
   "source": [
    "mes.mean(axis=0)"
   ]
  },
  {
   "cell_type": "code",
   "execution_count": null,
   "metadata": {},
   "outputs": [],
   "source": [
    "real.mean(axis=0)"
   ]
  },
  {
   "cell_type": "code",
   "execution_count": null,
   "metadata": {},
   "outputs": [],
   "source": [
    "bias"
   ]
  },
  {
   "cell_type": "code",
   "execution_count": null,
   "metadata": {},
   "outputs": [],
   "source": []
  }
 ],
 "metadata": {
  "interpreter": {
   "hash": "0307b5c48d2f2844bbfc3cfee182278233dbcde98b6c13456d7084cfbfaf7517"
  },
  "kernelspec": {
   "display_name": "Python 3.8.10 64-bit ('imu': conda)",
   "name": "python3"
  },
  "language_info": {
   "codemirror_mode": {
    "name": "ipython",
    "version": 3
   },
   "file_extension": ".py",
   "mimetype": "text/x-python",
   "name": "python",
   "nbconvert_exporter": "python",
   "pygments_lexer": "ipython3",
   "version": "3.8.10"
  },
  "orig_nbformat": 4
 },
 "nbformat": 4,
 "nbformat_minor": 2
}
